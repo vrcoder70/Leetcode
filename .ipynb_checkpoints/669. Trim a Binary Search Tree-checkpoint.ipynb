{
 "cells": [
  {
   "cell_type": "markdown",
   "id": "5c22cf03-dbf2-4fd9-9cd3-7d67e9ef0fb0",
   "metadata": {},
   "source": [
    "Given the root of a binary search tree and the lowest and highest boundaries as low and high, trim the tree so that all its elements lies in \\[low, high]. Trimming the tree should not change the relative structure of the elements that will remain in the tree (i.e., any node's descendant should remain a descendant). It can be proven that there is a unique answer.\n",
    "\n",
    "Return the root of the trimmed binary search tree. Note that the root may change depending on the given bounds."
   ]
  },
  {
   "cell_type": "code",
   "execution_count": 4,
   "id": "9c42a2b7-b0e4-47fe-8e02-2c1b0527df0b",
   "metadata": {},
   "outputs": [],
   "source": [
    "from typing import Optional\n",
    "\n",
    "# Definition for a binary tree node.\n",
    "class TreeNode:\n",
    "    def __init__(self, val=0, left=None, right=None):\n",
    "        self.val = val\n",
    "        self.left = left\n",
    "        self.right = right\n",
    "class Solution:\n",
    "    def trimBST(self, root: Optional[TreeNode], low: int, high: int) -> Optional[TreeNode]:\n",
    "        \n",
    "        def dfs(node):\n",
    "            if not node:\n",
    "                return False\n",
    "            while node and node.val < low:\n",
    "                if node.right:\n",
    "                    left,right = node.right.left,node.right.right\n",
    "                    node.val = node.right.val\n",
    "                    node.left = left\n",
    "                    node.right = right\n",
    "                else:\n",
    "                    return True\n",
    "\n",
    "            while node and node.val > high:\n",
    "                if node.left:\n",
    "                    left,right = node.left.left,node.left.right\n",
    "                    node.val = node.left.val\n",
    "                    node.left = left\n",
    "                    node.right = right\n",
    "                else:\n",
    "                    return True\n",
    "\n",
    "            if node and (node.val < low or node.val > high):\n",
    "                n = dfs(node)\n",
    "                node = None if n else node\n",
    "            \n",
    "            if node:\n",
    "                left = dfs(node.left)\n",
    "                if left:\n",
    "                    node.left = None\n",
    "                right = dfs(node.right)\n",
    "                if right:\n",
    "                    node.right = None\n",
    "    \n",
    "            return False\n",
    "            \n",
    "           \n",
    "        r = dfs(root) \n",
    "\n",
    "        return root if not r else None"
   ]
  }
 ],
 "metadata": {
  "kernelspec": {
   "display_name": "Python 3 (ipykernel)",
   "language": "python",
   "name": "python3"
  },
  "language_info": {
   "codemirror_mode": {
    "name": "ipython",
    "version": 3
   },
   "file_extension": ".py",
   "mimetype": "text/x-python",
   "name": "python",
   "nbconvert_exporter": "python",
   "pygments_lexer": "ipython3",
   "version": "3.11.7"
  }
 },
 "nbformat": 4,
 "nbformat_minor": 5
}
